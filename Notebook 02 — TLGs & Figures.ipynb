{
 "cells": [
  {
   "cell_type": "markdown",
   "id": "fbb41723-8920-4924-b601-22ba19446243",
   "metadata": {},
   "source": [
    "## Notebook 02 — TLGs & Figures\n",
    "\n",
    "Assemble the subset of figures needed for a report:\n",
    "Drug-tolerance overlay, PASS/ALERT table, ADA incidence bias, Detected ADA vs exposure, True exposure-response.\n",
    "\n",
    "Produce 1–2 “TLG-ish” tables (target attainment %, ADA incidence %, by assay)."
   ]
  },
  {
   "cell_type": "code",
   "execution_count": 2,
   "id": "ab286d80-c5f6-4f77-9a55-fc8ebb067bea",
   "metadata": {},
   "outputs": [
    {
     "name": "stdout",
     "output_type": "stream",
     "text": [
      "Copied: recovery_overlay_sim_vs_lit.png\n",
      "Copied: pass_alert_table.png\n",
      "Copied: ada_incidence_detection_bias.png\n",
      "Copied: ada_detection_vs_exposure.png\n",
      "Copied: wk52_by_detected_ADA_assay.png\n",
      "Copied: exposure_response_true.png\n",
      "Wrote: /Users/cmontefusco/Coding projects/regulatory-style-clinpharm-report/output/TLG_target_attainment.csv\n"
     ]
    }
   ],
   "source": [
    "import shutil, yaml\n",
    "from pathlib import Path\n",
    "import pandas as pd\n",
    "\n",
    "cfg = yaml.safe_load(open(\"config.yaml\", \"r\"))\n",
    "FIGS_SRC = Path(cfg[\"paths\"][\"figures\"])\n",
    "OUTD     = Path(cfg[\"output\"][\"dir\"])\n",
    "OUTF     = Path(cfg[\"output\"][\"figures\"])\n",
    "OUTD.mkdir(parents=True, exist_ok=True)\n",
    "OUTF.mkdir(parents=True, exist_ok=True)\n",
    "\n",
    "# Copy the standard figure set you want in the report\n",
    "figure_list = [\n",
    "    \"recovery_overlay_sim_vs_lit.png\",\n",
    "    \"pass_alert_table.png\",\n",
    "    \"ada_incidence_detection_bias.png\",\n",
    "    \"ada_detection_vs_exposure.png\",\n",
    "    \"wk52_by_detected_ADA_assay.png\",\n",
    "    \"exposure_response_true.png\",\n",
    "]\n",
    "for fn in figure_list:\n",
    "    src = FIGS_SRC / fn\n",
    "    dst = OUTF / fn\n",
    "    if src.exists():\n",
    "        shutil.copy2(src, dst)\n",
    "        print(\"Copied:\", src.name)\n",
    "    else:\n",
    "        print(\"WARNING: missing figure ->\", src)\n",
    "\n",
    "# OPTIONAL: create small TLG-style CSVs if you have tlgs content to summarize\n",
    "# Here’s a placeholder table—swap this for your real aggregation from tlgs.parquet if needed\n",
    "pd.DataFrame([\n",
    "    {\"Group\": \"All\", \"Assay\": \"Standard\", \"TargetAttain_%\": 84.3},\n",
    "    {\"Group\": \"All\", \"Assay\": \"PandA\",   \"TargetAttain_%\": 72.1},\n",
    "]).to_csv(OUTD / \"TLG_target_attainment.csv\", index=False)\n",
    "print(\"Wrote:\", OUTD / \"TLG_target_attainment.csv\")"
   ]
  },
  {
   "cell_type": "code",
   "execution_count": null,
   "id": "fd4b119c-762a-4c39-a881-6622062a629c",
   "metadata": {},
   "outputs": [],
   "source": []
  }
 ],
 "metadata": {
  "kernelspec": {
   "display_name": "Python [conda env:base] *",
   "language": "python",
   "name": "conda-base-py"
  },
  "language_info": {
   "codemirror_mode": {
    "name": "ipython",
    "version": 3
   },
   "file_extension": ".py",
   "mimetype": "text/x-python",
   "name": "python",
   "nbconvert_exporter": "python",
   "pygments_lexer": "ipython3",
   "version": "3.12.2"
  }
 },
 "nbformat": 4,
 "nbformat_minor": 5
}

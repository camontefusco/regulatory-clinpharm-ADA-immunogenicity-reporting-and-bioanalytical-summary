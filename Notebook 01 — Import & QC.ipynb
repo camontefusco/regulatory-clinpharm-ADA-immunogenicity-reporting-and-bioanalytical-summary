{
 "cells": [
  {
   "cell_type": "code",
   "execution_count": 3,
   "id": "2795c164-4994-4c63-9bab-f24abb080b01",
   "metadata": {},
   "outputs": [
    {
     "name": "stdout",
     "output_type": "stream",
     "text": [
      "Reading: /Users/cmontefusco/Coding projects/ada-panda-mini/reports/tlgs.parquet\n",
      "Reading: /Users/cmontefusco/Coding projects/ada-panda-mini/reports/benchmarks.parquet\n",
      "QC summary -> /Users/cmontefusco/Coding projects/regulatory-style-clinpharm-report/output/qc_summary.json\n",
      "QC OK\n"
     ]
    }
   ],
   "source": [
    "import json, yaml\n",
    "from pathlib import Path\n",
    "import pandas as pd\n",
    "\n",
    "# Load config (works with spaces in path)\n",
    "CFG = Path(\"config.yaml\")\n",
    "cfg = yaml.safe_load(open(CFG, \"r\"))\n",
    "\n",
    "TLGS = Path(cfg[\"paths\"][\"tlgs\"])\n",
    "BM   = Path(cfg[\"paths\"][\"benchmarks\"])\n",
    "OUTD = Path(cfg[\"output\"][\"dir\"])\n",
    "OUTD.mkdir(parents=True, exist_ok=True)\n",
    "\n",
    "print(\"Reading:\", TLGS)\n",
    "tlgs = pd.read_parquet(TLGS)\n",
    "print(\"Reading:\", BM)\n",
    "bench = pd.read_parquet(BM)\n",
    "\n",
    "# Basic QC\n",
    "errs = []\n",
    "if not (0 <= tlgs[\"recovery\"]).all() or not (tlgs[\"recovery\"] <= 1).all():\n",
    "    errs.append(\"Recovery values outside [0,1].\")\n",
    "\n",
    "if \"observed_drug_tolerance_ugmL\" in bench:\n",
    "    if not (bench[\"observed_drug_tolerance_ugmL\"] >= 0).all():\n",
    "        errs.append(\"Negative observed_drug_tolerance_ugmL in benchmarks.\")\n",
    "\n",
    "qc = {\n",
    "    \"tlgs_rows\": int(len(tlgs)),\n",
    "    \"tlgs_cols\": tlgs.columns.tolist(),\n",
    "    \"bench_rows\": int(len(bench)),\n",
    "    \"bench_cols\": bench.columns.tolist(),\n",
    "    \"methods_in_bench\": sorted(bench[\"method\"].unique().tolist()) if \"method\" in bench else [],\n",
    "    \"errors\": errs,\n",
    "}\n",
    "\n",
    "(OUTD / \"qc_summary.json\").write_text(json.dumps(qc, indent=2))\n",
    "print(\"QC summary ->\", OUTD / \"qc_summary.json\")\n",
    "if errs:\n",
    "    print(\"QC ERRORS:\", errs)\n",
    "else:\n",
    "    print(\"QC OK\")"
   ]
  },
  {
   "cell_type": "code",
   "execution_count": null,
   "id": "326baf8d-5e09-4860-b679-5ecc72b67e47",
   "metadata": {},
   "outputs": [],
   "source": []
  }
 ],
 "metadata": {
  "kernelspec": {
   "display_name": "Python [conda env:base] *",
   "language": "python",
   "name": "conda-base-py"
  },
  "language_info": {
   "codemirror_mode": {
    "name": "ipython",
    "version": 3
   },
   "file_extension": ".py",
   "mimetype": "text/x-python",
   "name": "python",
   "nbconvert_exporter": "python",
   "pygments_lexer": "ipython3",
   "version": "3.12.2"
  }
 },
 "nbformat": 4,
 "nbformat_minor": 5
}
